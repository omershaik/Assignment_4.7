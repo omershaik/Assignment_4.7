{
 "cells": [
  {
   "cell_type": "markdown",
   "metadata": {},
   "source": [
    "#### Blood glucose levels for obese patients have a mean of 100 with a standard deviation of 15. A researcher thinks that a diet high in raw cornstarch will have a positive effect on blood glucose levels. A sample of 36 patients who have tried the raw cornstarch diet have a mean glucose level of 108. Test the hypothesis that the raw cornstarch had an effect or not."
   ]
  },
  {
   "cell_type": "markdown",
   "metadata": {},
   "source": [
    "Let us choose Null hypothesis fro this problem.\n",
    "\n",
    "State the hypothesis. The population mean is 100\n",
    "\n",
    "As the significance level is not mentioned, let us asssume it to be 5% = 0.05\n",
    "\n",
    "We must calculate the random chance probability, using the foemula we get = 3.2\n",
    "\n",
    "The P-value associated with the Z-value of 3.2 is 0.9993.\n",
    "\n",
    "This means that the probability of having a value less than 108 is 0.9993, while the probability of having a value equal to  108 is (1-0.9993), which is equal to 0.0007.\n",
    "\n",
    "\n",
    "As 0.0007 is less than the significance level of 0.05, So the Null hypothesis can be rejected.\n"
   ]
  },
  {
   "cell_type": "code",
   "execution_count": null,
   "metadata": {
    "collapsed": true
   },
   "outputs": [],
   "source": []
  }
 ],
 "metadata": {
  "kernelspec": {
   "display_name": "Python 3",
   "language": "python",
   "name": "python3"
  },
  "language_info": {
   "codemirror_mode": {
    "name": "ipython",
    "version": 3
   },
   "file_extension": ".py",
   "mimetype": "text/x-python",
   "name": "python",
   "nbconvert_exporter": "python",
   "pygments_lexer": "ipython3",
   "version": "3.6.4"
  }
 },
 "nbformat": 4,
 "nbformat_minor": 2
}
